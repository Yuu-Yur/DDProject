{
 "cells": [
  {
   "metadata": {
    "ExecuteTime": {
     "end_time": "2025-04-07T00:30:46.332680Z",
     "start_time": "2025-04-07T00:30:45.395918Z"
    }
   },
   "cell_type": "code",
   "source": [
    "import pandas as pd\n",
    "import pymysql\n",
    "\n",
    "# DB 연결\n",
    "conn = pymysql.connect(\n",
    "    host=\"localhost\", # MariaDB 서버 주소\n",
    "    port=3306,\n",
    "    user=\"webuser\",       # 사용자명\n",
    "    password=\"webuser\",  # 비밀번호\n",
    "    database=\"DDProject\",  # 사용할 데이터베이스\n",
    "    charset=\"utf8mb4\"  # 한글 지원\n",
    ")\n",
    "\n",
    "cursor = conn.cursor()\n",
    "\n",
    "\n",
    "# 테이블 크리에이트\n",
    "create_table_sql = \"\"\"CREATE TABLE IF NOT EXISTS crackdown (\n",
    "    id INT AUTO_INCREMENT PRIMARY KEY,\n",
    "    성별 VARCHAR(10),         -- 성별\n",
    "    적발횟수 INT,    -- 적발횟수\n",
    "    나이 INT,               -- 나이\n",
    "    알코올농도 FLOAT,   -- 알코올농도\n",
    "    측정거부 VARCHAR(10),       -- 측정거부\n",
    "    측정일시 DATETIME, -- 측정일시\n",
    "    관할경찰서 VARCHAR(100), -- 관할경찰서\n",
    "    구 VARCHAR(20),\n",
    "    발생년월 VARCHAR(50),\n",
    "    적발시각 VARCHAR(10)\n",
    ")\"\"\"\n",
    "cursor.execute(create_table_sql)\n",
    "\n",
    "\n",
    "\n",
    "# 1. 데이터 로드\n",
    "df_crackdown_rate = pd.read_csv('../result/서울_단속_적발.csv', encoding='utf-8', header=0)\n",
    "# 2. 데이터 변환 (성별 및 측정거부)\n",
    "df_crackdown_rate['나이'] = df_crackdown_rate['나이'].replace('불명', None)\n",
    "# 3. 날짜 변환 (문자열 → DATETIME)\n",
    "df_crackdown_rate[\"측정일시\"] = pd.to_datetime(df_crackdown_rate[\"측정일시\"], errors=\"coerce\")  # 변환 실패 시 NaT 처리\n",
    "\n",
    "# 테이블 인서트\n",
    "insert_sql = \"\"\"\n",
    "    INSERT INTO crackdown (성별, 적발횟수, 나이, 알코올농도, 측정거부, 측정일시, 관할경찰서, 구, 발생년월, 적발시각)\n",
    "    VALUES (%s, %s, %s, %s, %s, %s, %s, %s, %s, %s)\n",
    "\"\"\"\n",
    "\n",
    "data = df_crackdown_rate[[\"성별\", \"적발횟수\", \"나이\", \"알콜농도\", \"측정거부\", \"측정일시\", \"관할경찰서\", \"구\", \"발생년월\",\"적발시각\"]].itertuples(index=False, name=None)\n",
    "cursor.executemany(insert_sql, data)\n",
    "\n",
    "# 변경 사항 저장\n",
    "conn.commit()\n",
    "\n",
    "# 연결 종료\n",
    "conn.close()\n",
    "# null_rows = df_crackdown_rate[df_crackdown_rate.isnull().any(axis=1)]\n",
    "# null_rows"
   ],
   "id": "70ee393bc86826cf",
   "outputs": [],
   "execution_count": 1
  }
 ],
 "metadata": {
  "kernelspec": {
   "display_name": "Python 3",
   "language": "python",
   "name": "python3"
  },
  "language_info": {
   "codemirror_mode": {
    "name": "ipython",
    "version": 2
   },
   "file_extension": ".py",
   "mimetype": "text/x-python",
   "name": "python",
   "nbconvert_exporter": "python",
   "pygments_lexer": "ipython2",
   "version": "2.7.6"
  }
 },
 "nbformat": 4,
 "nbformat_minor": 5
}
