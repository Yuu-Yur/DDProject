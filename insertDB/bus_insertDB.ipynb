{
 "cells": [
  {
   "cell_type": "code",
   "id": "initial_id",
   "metadata": {
    "collapsed": true,
    "ExecuteTime": {
     "end_time": "2025-04-01T08:38:20.851118Z",
     "start_time": "2025-04-01T08:38:20.306234Z"
    }
   },
   "source": [
    "import pandas as pd\n",
    "import pymysql\n",
    "from more_itertools.more import strip\n",
    "\n",
    "# DB 연결\n",
    "conn = pymysql.connect(\n",
    "    host=\"localhost\", # MariaDB 서버 주소\n",
    "    port=3306,\n",
    "    user=\"webuser\",       # 사용자명\n",
    "    password=\"webuser\",  # 비밀번호\n",
    "    database=\"DDProject\",  # 사용할 데이터베이스\n",
    "    charset=\"utf8mb4\"  # 한글 지원\n",
    ")\n",
    "\n",
    "\n",
    "\n",
    "# transactional\n",
    "try:\n",
    "    conn.autocommit(False)\n",
    "    cursor = conn.cursor()\n",
    "    # 테이블 크리에이트\n",
    "    create_table_sql = \"\"\"CREATE TABLE IF NOT EXISTS busstop (\n",
    "        id INT AUTO_INCREMENT PRIMARY KEY,\n",
    "        경도 FLOAT,\n",
    "        정류장번호 INT,\n",
    "        버스도착안내기설치여부 VARCHAR(20),\n",
    "        정류장이름 VARCHAR(100),\n",
    "        정류장유형 VARCHAR(20),\n",
    "        위도 FLOAT,\n",
    "        정류장아이디 INT,\n",
    "        지번주소 VARCHAR(100),\n",
    "        지번주소거리 VARCHAR(100),\n",
    "        도로명주소 VARCHAR(100),\n",
    "        도로명주소거리 VARCHAR(100)\n",
    "    )\"\"\"\n",
    "\n",
    "    cursor.execute(create_table_sql)\n",
    "\n",
    "\n",
    "\n",
    "    # 1. 데이터 로드\n",
    "    df_bus = pd.read_csv('../result/서울시_버스정류장정보.csv', encoding='utf-8', header=0)\n",
    "    # 2. 데이터 변환\n",
    "    df_bus['bus_arvl_info_guidem_instl'] = df_bus['bus_arvl_info_guidem_instl'].str.strip()\n",
    "    # 3. 날짜 변환 (문자열 → DATETIME)\n",
    "\n",
    "    # 테이블 인서트\n",
    "    placeholders = ', '.join(['%s'] * df_bus.columns.values.size)\n",
    "    insert_sql = f\"\"\"\n",
    "        INSERT INTO busstop (경도,정류장번호,버스도착안내기설치여부,정류장이름,정류장유형,위도,정류장아이디,지번주소,지번주소거리,도로명주소,도로명주소거리)\n",
    "        VALUES ({placeholders})\n",
    "    \"\"\"\n",
    "\n",
    "    data = df_bus[df_bus.columns.values].itertuples(index=False, name=None)\n",
    "    cursor.executemany(insert_sql, data)\n",
    "    # 변경 사항 저장\n",
    "    conn.commit()\n",
    "\n",
    "    #transactional error\n",
    "except pymysql.MySQLError as e:\n",
    "    print(e)\n",
    "    conn.rollback()\n",
    "\n",
    "finally:\n",
    "    # 연결 종료\n",
    "    cursor.close()\n",
    "    conn.close()\n",
    "# null_rows = df_bus[df_bus.isnull().any(axis=1)]\n",
    "# null_rows"
   ],
   "outputs": [],
   "execution_count": 12
  },
  {
   "metadata": {
    "ExecuteTime": {
     "end_time": "2025-04-01T08:38:20.864600Z",
     "start_time": "2025-04-01T08:38:20.859688Z"
    }
   },
   "cell_type": "code",
   "source": "df_bus.dtypes",
   "id": "188ce39ab5dd252",
   "outputs": [
    {
     "data": {
      "text/plain": [
       "lot                           float64\n",
       "crtr_no                         int64\n",
       "bus_arvl_info_guidem_instl     object\n",
       "crtr_nm                        object\n",
       "crtr_type                      object\n",
       "lat                           float64\n",
       "crtr_id                         int64\n",
       "_PARCEL_AD                     object\n",
       "_PARCEL_DT                     object\n",
       "_ROAD_AD                       object\n",
       "_ROAD_DT                       object\n",
       "dtype: object"
      ]
     },
     "execution_count": 13,
     "metadata": {},
     "output_type": "execute_result"
    }
   ],
   "execution_count": 13
  }
 ],
 "metadata": {
  "kernelspec": {
   "display_name": "Python 3",
   "language": "python",
   "name": "python3"
  },
  "language_info": {
   "codemirror_mode": {
    "name": "ipython",
    "version": 2
   },
   "file_extension": ".py",
   "mimetype": "text/x-python",
   "name": "python",
   "nbconvert_exporter": "python",
   "pygments_lexer": "ipython2",
   "version": "2.7.6"
  }
 },
 "nbformat": 4,
 "nbformat_minor": 5
}
