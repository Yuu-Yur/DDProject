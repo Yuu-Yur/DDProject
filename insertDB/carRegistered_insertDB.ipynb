{
 "cells": [
  {
   "cell_type": "code",
   "id": "initial_id",
   "metadata": {
    "collapsed": true,
    "ExecuteTime": {
     "end_time": "2025-04-07T00:30:34.607100Z",
     "start_time": "2025-04-07T00:30:34.011424Z"
    }
   },
   "source": [
    "import pandas as pd\n",
    "import pymysql\n",
    "\n",
    "# DB 연결\n",
    "conn = pymysql.connect(\n",
    "    host=\"localhost\", # MariaDB 서버 주소\n",
    "    port=3306,\n",
    "    user=\"webuser\",       # 사용자명\n",
    "    password=\"webuser\",  # 비밀번호\n",
    "    database=\"DDProject\",  # 사용할 데이터베이스\n",
    "    charset=\"utf8mb4\"  # 한글 지원\n",
    ")\n",
    "\n",
    "cursor = conn.cursor()\n",
    "\n",
    "\n",
    "# 테이블 크리에이트\n",
    "create_table_sql = \"\"\"CREATE TABLE IF NOT EXISTS registeredcar (\n",
    "    id INT AUTO_INCREMENT PRIMARY KEY,\n",
    "    시군구 VARCHAR(20),\n",
    "    행정동 VARCHAR(20),\n",
    "    연료 VARCHAR(20),\n",
    "    계 INT,\n",
    "    관용_승용 INT,\n",
    "    관용_승합 INT,\n",
    "    관용_화물 INT,\n",
    "    관용_특수 INT,\n",
    "    자가용_승용 INT,\n",
    "    자가용승합 INT,\n",
    "    자가용화물 INT,\n",
    "    자가용특수 INT,\n",
    "    영업용_승용 INT,\n",
    "    영업용승합 INT,\n",
    "    영업용화물 INT,\n",
    "    영업용특수 INT\n",
    ")\"\"\"\n",
    "cursor.execute(create_table_sql)\n",
    "\n",
    "\n",
    "\n",
    "# 1. 데이터 로드\n",
    "df_car = pd.read_csv('../result/23-12 서울시 자동차 등록대수.csv', encoding='utf-8', header=0)\n",
    "# 2. 데이터 변환\n",
    "\n",
    "# 3. 날짜 변환 (문자열 → DATETIME)\n",
    "\n",
    "# 테이블 인서트\n",
    "insert_sql = \"\"\"\n",
    "    INSERT INTO registeredcar (시군구,행정동,연료,계,관용_승용,관용_승합,관용_화물,관용_특수,자가용_승용,자가용승합,자가용화물,자가용특수,영업용_승용,영업용승합,영업용화물,영업용특수)\n",
    "    VALUES (%s, %s, %s, %s, %s, %s, %s, %s, %s, %s, %s, %s, %s, %s, %s, %s)\n",
    "\"\"\"\n",
    "\n",
    "data = df_car[df_car.columns.values].itertuples(index=False, name=None)\n",
    "cursor.executemany(insert_sql, data)\n",
    "\n",
    "# 변경 사항 저장\n",
    "conn.commit()\n",
    "\n",
    "# 연결 종료\n",
    "conn.close()"
   ],
   "outputs": [],
   "execution_count": 1
  }
 ],
 "metadata": {
  "kernelspec": {
   "display_name": "Python 3",
   "language": "python",
   "name": "python3"
  },
  "language_info": {
   "codemirror_mode": {
    "name": "ipython",
    "version": 2
   },
   "file_extension": ".py",
   "mimetype": "text/x-python",
   "name": "python",
   "nbconvert_exporter": "python",
   "pygments_lexer": "ipython2",
   "version": "2.7.6"
  }
 },
 "nbformat": 4,
 "nbformat_minor": 5
}
