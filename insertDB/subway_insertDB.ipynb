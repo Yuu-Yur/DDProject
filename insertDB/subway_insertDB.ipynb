{
 "cells": [
  {
   "cell_type": "code",
   "id": "initial_id",
   "metadata": {
    "collapsed": true,
    "ExecuteTime": {
     "end_time": "2025-04-07T00:32:33.279651Z",
     "start_time": "2025-04-07T00:32:32.758465Z"
    }
   },
   "source": [
    "import pandas as pd\n",
    "import pymysql\n",
    "\n",
    "# DB 연결\n",
    "conn = pymysql.connect(\n",
    "    host=\"localhost\", # MariaDB 서버 주소\n",
    "    port=3306,\n",
    "    user=\"webuser\",       # 사용자명\n",
    "    password=\"webuser\",  # 비밀번호\n",
    "    database=\"DDProject\",  # 사용할 데이터베이스\n",
    "    charset=\"utf8mb4\"  # 한글 지원\n",
    ")\n",
    "\n",
    "\n",
    "\n",
    "# transactional\n",
    "try:\n",
    "    conn.autocommit(False)\n",
    "    cursor = conn.cursor()\n",
    "    # 테이블 크리에이트\n",
    "    create_table_sql = \"\"\"CREATE TABLE IF NOT EXISTS subway (\n",
    "        id INT AUTO_INCREMENT PRIMARY KEY,\n",
    "        역사_ID INT,\n",
    "        역사명 VARCHAR(50),\n",
    "        호선 VARCHAR(50),\n",
    "        위도 FLOAT,\n",
    "        경도 FLOAT,\n",
    "        지번주소 VARCHAR(255),\n",
    "        지번거리 VARCHAR(20),\n",
    "        도로명주소 VARCHAR(255),\n",
    "        도로명거리 VARCHAR(20)\n",
    "    )\"\"\"\n",
    "\n",
    "    cursor.execute(create_table_sql)\n",
    "\n",
    "\n",
    "\n",
    "    # 1. 데이터 로드\n",
    "    df_subway = pd.read_csv('../result/서울시_전철역사정보.csv', encoding='utf-8', header=0)\n",
    "    # 2. 데이터 변환\n",
    "\n",
    "    # 3. 날짜 변환 (문자열 → DATETIME)\n",
    "\n",
    "    # 테이블 인서트\n",
    "    placeholders = ', '.join(['%s'] * df_subway.columns.values.size)\n",
    "    insert_sql = f\"\"\"\n",
    "        INSERT INTO subway (역사_ID,역사명,호선,위도,경도,지번주소,지번거리,도로명주소,도로명거리)\n",
    "        VALUES ({placeholders})\n",
    "    \"\"\"\n",
    "\n",
    "    data = df_subway[df_subway.columns.values].itertuples(index=False, name=None)\n",
    "    cursor.executemany(insert_sql, data)\n",
    "    # 변경 사항 저장\n",
    "    conn.commit()\n",
    "\n",
    "    #transactional error\n",
    "except pymysql.MySQLError as e:\n",
    "    print(e)\n",
    "    conn.rollback()\n",
    "\n",
    "finally:\n",
    "    # 연결 종료\n",
    "    cursor.close()\n",
    "    conn.close()\n",
    "# null_rows = df_subway[df_subway.isnull().any(axis=1)]\n",
    "# null_rows"
   ],
   "outputs": [],
   "execution_count": 1
  },
  {
   "metadata": {
    "ExecuteTime": {
     "end_time": "2025-04-07T00:32:33.292823Z",
     "start_time": "2025-04-07T00:32:33.285422Z"
    }
   },
   "cell_type": "code",
   "source": "df_subway.dtypes",
   "id": "55111a937c836edb",
   "outputs": [
    {
     "data": {
      "text/plain": [
       "역사_ID           int64\n",
       "역사명            object\n",
       "호선             object\n",
       "위도            float64\n",
       "경도            float64\n",
       "_PARCEL_AD     object\n",
       "_PARCEL_DT     object\n",
       "_ROAD_AD       object\n",
       "_ROAD_DT       object\n",
       "dtype: object"
      ]
     },
     "execution_count": 2,
     "metadata": {},
     "output_type": "execute_result"
    }
   ],
   "execution_count": 2
  }
 ],
 "metadata": {
  "kernelspec": {
   "display_name": "Python 3",
   "language": "python",
   "name": "python3"
  },
  "language_info": {
   "codemirror_mode": {
    "name": "ipython",
    "version": 2
   },
   "file_extension": ".py",
   "mimetype": "text/x-python",
   "name": "python",
   "nbconvert_exporter": "python",
   "pygments_lexer": "ipython2",
   "version": "2.7.6"
  }
 },
 "nbformat": 4,
 "nbformat_minor": 5
}
