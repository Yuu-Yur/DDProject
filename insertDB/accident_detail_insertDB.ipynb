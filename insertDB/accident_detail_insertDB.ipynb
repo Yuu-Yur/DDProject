{
 "cells": [
  {
   "cell_type": "code",
   "id": "initial_id",
   "metadata": {
    "collapsed": true,
    "ExecuteTime": {
     "end_time": "2025-04-02T08:47:43.042745Z",
     "start_time": "2025-04-02T08:47:42.787249Z"
    }
   },
   "source": [
    "from insert_db import insert_db\n",
    "\n",
    "tableName = 'accident_detail'\n",
    "cquery = f'CREATE TABLE IF NOT EXISTS {tableName} (id INT AUTO_INCREMENT PRIMARY KEY,구분번호 VARCHAR(20),발생년월 VARCHAR(20),요일 VARCHAR(20),시군구 VARCHAR(100),사고내용 VARCHAR(20),사망자수 INT,중상자수 INT,경상자수 INT,부상신고자수 INT,사고유형 VARCHAR(50),법규위반 VARCHAR(50),노면상태 VARCHAR(20),기상상태 VARCHAR(20),도로형태 VARCHAR(50),가해운전자차종 VARCHAR(20),가해운전자성별 VARCHAR(20),가해운전자연령대 VARCHAR(20),가해운전자상해정도 VARCHAR(20),피해운전자차종 VARCHAR(20),피해운전자성별 VARCHAR(20),피해운전자연령대 VARCHAR(20),피해운전자상해정도 VARCHAR(20))'\n",
    "iquery = f'INSERT INTO {tableName} (구분번호,발생년월,요일,시군구,사고내용,사망자수,중상자수,경상자수,부상신고자수,사고유형,법규위반,노면상태,기상상태,도로형태,가해운전자차종,가해운전자성별,가해운전자연령대,가해운전자상해정도,피해운전자차종,피해운전자성별,피해운전자연령대,피해운전자상해정도)'\n",
    "path = '../result/23-12_서울시_음주운전사고_데이터.csv'\n",
    "insert_db(tableName, cquery, iquery, path)"
   ],
   "outputs": [
    {
     "name": "stdout",
     "output_type": "stream",
     "text": [
      "커밋완료\n"
     ]
    }
   ],
   "execution_count": 10
  },
  {
   "metadata": {
    "ExecuteTime": {
     "end_time": "2025-04-02T08:37:52.421539Z",
     "start_time": "2025-04-02T08:37:52.418469Z"
    }
   },
   "cell_type": "code",
   "source": "import pandas as pd",
   "id": "b02a0e06e919aada",
   "outputs": [],
   "execution_count": 6
  },
  {
   "metadata": {
    "ExecuteTime": {
     "end_time": "2025-04-02T08:38:40.113491Z",
     "start_time": "2025-04-02T08:38:40.086342Z"
    }
   },
   "cell_type": "code",
   "source": [
    "df = pd.read_csv('../result/23-12_서울시_음주운전사고_데이터.csv')\n",
    "df.dtypes"
   ],
   "id": "152c97435ce6032e",
   "outputs": [
    {
     "data": {
      "text/plain": [
       "구분번호           int64\n",
       "발생년월          object\n",
       "요일            object\n",
       "시군구           object\n",
       "사고내용          object\n",
       "사망자수           int64\n",
       "중상자수           int64\n",
       "경상자수           int64\n",
       "부상신고자수         int64\n",
       "사고유형          object\n",
       "법규위반          object\n",
       "노면상태          object\n",
       "기상상태          object\n",
       "도로형태          object\n",
       "가해운전자 차종      object\n",
       "가해운전자 성별      object\n",
       "가해운전자 연령대     object\n",
       "가해운전자 상해정도    object\n",
       "피해운전자 차종      object\n",
       "피해운전자 성별      object\n",
       "피해운전자 연령대     object\n",
       "피해운전자 상해정도    object\n",
       "dtype: object"
      ]
     },
     "execution_count": 8,
     "metadata": {},
     "output_type": "execute_result"
    }
   ],
   "execution_count": 8
  }
 ],
 "metadata": {
  "kernelspec": {
   "display_name": "Python 3",
   "language": "python",
   "name": "python3"
  },
  "language_info": {
   "codemirror_mode": {
    "name": "ipython",
    "version": 2
   },
   "file_extension": ".py",
   "mimetype": "text/x-python",
   "name": "python",
   "nbconvert_exporter": "python",
   "pygments_lexer": "ipython2",
   "version": "2.7.6"
  }
 },
 "nbformat": 4,
 "nbformat_minor": 5
}
