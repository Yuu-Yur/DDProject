{
 "cells": [
  {
   "metadata": {
    "ExecuteTime": {
     "end_time": "2025-04-07T00:32:25.666678Z",
     "start_time": "2025-04-07T00:32:25.096681Z"
    }
   },
   "cell_type": "code",
   "source": [
    "import pandas as pd\n",
    "import pymysql\n",
    "\n",
    "# DB 연결\n",
    "conn = pymysql.connect(\n",
    "    host=\"localhost\", # MariaDB 서버 주소\n",
    "    port=3306,\n",
    "    user=\"webuser\",       # 사용자명\n",
    "    password=\"webuser\",  # 비밀번호\n",
    "    database=\"DDProject\",  # 사용할 데이터베이스\n",
    "    charset=\"utf8mb4\"  # 한글 지원\n",
    ")\n",
    "\n",
    "cursor = conn.cursor()\n",
    "\n",
    "\n",
    "# 테이블 크리에이트\n",
    "create_table_sql = \"\"\"CREATE TABLE IF NOT EXISTS streetlamp (\n",
    "    id INT AUTO_INCREMENT PRIMARY KEY,\n",
    "    관리번호 VARCHAR(100),  -- 관리번호는 정수형\n",
    "    위도 FLOAT,             -- 위도는 실수형\n",
    "    경도 FLOAT,             -- 경도는 실수형\n",
    "    지번주소 VARCHAR(255), -- _PARCEL_AD는 문자열\n",
    "    도로명주소 VARCHAR(255),  -- _ROAD_AD는 문자열로 처리\n",
    "    시군구 VARCHAR(20),    -- 시군구는 문자열로 처리\n",
    "    행정동 VARCHAR(20)    -- 행정동은 문자열로 처리\n",
    ")\"\"\"\n",
    "cursor.execute(create_table_sql)\n",
    "\n",
    "\n",
    "\n",
    "# 1. 데이터 로드\n",
    "df_lamp = pd.read_csv('../result/서울시_가로등_위치정보.csv', encoding='utf-8', header=0)\n",
    "# 2. 데이터 변환\n",
    "\n",
    "# 3. 날짜 변환 (문자열 → DATETIME)\n",
    "\n",
    "# 테이블 인서트\n",
    "insert_sql = \"\"\"\n",
    "    INSERT INTO streetlamp (관리번호, 위도, 경도, 지번주소, 도로명주소, 시군구, 행정동)\n",
    "    VALUES (%s, %s, %s, %s, %s, %s, %s)\n",
    "\"\"\"\n",
    "\n",
    "data = df_lamp[[\"관리번호\", \"위도\", \"경도\", \"_PARCEL_AD\", \"_ROAD_AD\", \"시군구\", \"행정동\"]].itertuples(index=False, name=None)\n",
    "cursor.executemany(insert_sql, data)\n",
    "\n",
    "# 변경 사항 저장\n",
    "conn.commit()\n",
    "\n",
    "# 연결 종료\n",
    "conn.close()"
   ],
   "id": "a578cf814ebedd0",
   "outputs": [],
   "execution_count": 2
  }
 ],
 "metadata": {
  "kernelspec": {
   "display_name": "Python 3",
   "language": "python",
   "name": "python3"
  },
  "language_info": {
   "codemirror_mode": {
    "name": "ipython",
    "version": 2
   },
   "file_extension": ".py",
   "mimetype": "text/x-python",
   "name": "python",
   "nbconvert_exporter": "python",
   "pygments_lexer": "ipython2",
   "version": "2.7.6"
  }
 },
 "nbformat": 4,
 "nbformat_minor": 5
}
