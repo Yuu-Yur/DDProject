{
 "cells": [
  {
   "cell_type": "code",
   "id": "initial_id",
   "metadata": {
    "collapsed": true,
    "ExecuteTime": {
     "end_time": "2025-04-02T07:47:54.357468Z",
     "start_time": "2025-04-02T07:47:53.988693Z"
    }
   },
   "source": "from insert_db import insert_db",
   "outputs": [],
   "execution_count": 1
  },
  {
   "metadata": {
    "ExecuteTime": {
     "end_time": "2025-04-02T07:31:26.846057Z",
     "start_time": "2025-04-02T07:31:26.796856Z"
    }
   },
   "cell_type": "code",
   "source": [
    "tableName = 'monthly_accident'\n",
    "cquery = f'CREATE TABLE IF NOT EXISTS {tableName} (id INT AUTO_INCREMENT PRIMARY KEY, 시군구 VARCHAR(20),01월 INT,02월 INT,03월 INT,04월 INT,05월 INT,06월 INT,07월 INT,08월 INT,09월 INT,10월 INT,11월 INT,12월 INT,계 INT)'\n",
    "iquery = f'INSERT INTO {tableName} (시군구,01월,02월,03월,04월,05월,06월,07월,08월,09월,10월,11월,12월,계)'\n",
    "path = '../result/서울_구별_월별_음주운전.csv'\n",
    "insert_db(cquery, iquery, path)"
   ],
   "id": "34571afac4236a8e",
   "outputs": [],
   "execution_count": 11
  },
  {
   "metadata": {
    "ExecuteTime": {
     "end_time": "2025-04-02T08:15:41.877574Z",
     "start_time": "2025-04-02T08:15:41.849330Z"
    }
   },
   "cell_type": "code",
   "source": [
    "tableName = 'days_accident'\n",
    "cquery = f'CREATE TABLE IF NOT EXISTS {tableName} (id INT AUTO_INCREMENT PRIMARY KEY, 시군구 VARCHAR(20),일 INT, 월 INT, 화 INT, 수 INT, 목 INT, 금 INT, 토 INT)'\n",
    "iquery = f'INSERT INTO {tableName} (시군구,일,월,화,수,목,금,토)'\n",
    "path = '../result/서울_구별_요일별_음주운전.csv'\n",
    "insert_db(tableName,cquery, iquery, path)"
   ],
   "id": "f5df04dbf0e2c448",
   "outputs": [
    {
     "name": "stdout",
     "output_type": "stream",
     "text": [
      "커밋완료\n"
     ]
    }
   ],
   "execution_count": 3
  },
  {
   "metadata": {
    "ExecuteTime": {
     "end_time": "2025-04-02T07:48:59.136935Z",
     "start_time": "2025-04-02T07:48:59.088281Z"
    }
   },
   "cell_type": "code",
   "source": [
    "tableName = 'times_accident'\n",
    "cquery = f'CREATE TABLE IF NOT EXISTS {tableName} (id INT AUTO_INCREMENT PRIMARY KEY, 시군구 VARCHAR(20),00시 INT,02시 INT,04시 INT,06시 INT,08시 INT,10시 INT,12시 INT,14시 INT,16시 INT,18시 INT,20시 INT,22시 INT)'\n",
    "iquery = f'INSERT INTO {tableName} (시군구,00시,02시,04시,06시,08시,10시,12시,14시,16시,18시,20시,22시)'\n",
    "path = '../result/서울_구별_시간대별_음주운전.csv'\n",
    "insert_db(tableName, cquery, iquery, path)"
   ],
   "id": "947b8d05bf70b43f",
   "outputs": [
    {
     "name": "stdout",
     "output_type": "stream",
     "text": [
      "커밋완료\n"
     ]
    }
   ],
   "execution_count": 2
  }
 ],
 "metadata": {
  "kernelspec": {
   "display_name": "Python 3",
   "language": "python",
   "name": "python3"
  },
  "language_info": {
   "codemirror_mode": {
    "name": "ipython",
    "version": 2
   },
   "file_extension": ".py",
   "mimetype": "text/x-python",
   "name": "python",
   "nbconvert_exporter": "python",
   "pygments_lexer": "ipython2",
   "version": "2.7.6"
  }
 },
 "nbformat": 4,
 "nbformat_minor": 5
}
