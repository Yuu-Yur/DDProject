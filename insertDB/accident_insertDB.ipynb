{
 "cells": [
  {
   "cell_type": "code",
   "id": "initial_id",
   "metadata": {
    "collapsed": true,
    "ExecuteTime": {
     "end_time": "2025-04-09T01:12:07.994245Z",
     "start_time": "2025-04-09T01:12:07.549555Z"
    }
   },
   "source": "from insert_db import insert_db",
   "outputs": [],
   "execution_count": 2
  },
  {
   "metadata": {
    "ExecuteTime": {
     "end_time": "2025-04-07T06:31:07.974788Z",
     "start_time": "2025-04-07T06:31:07.946380Z"
    }
   },
   "cell_type": "code",
   "source": [
    "tableName = 'monthly_accident'\n",
    "cquery = f'CREATE TABLE IF NOT EXISTS {tableName} (id INT AUTO_INCREMENT PRIMARY KEY, 시군구 VARCHAR(20),01월 INT,02월 INT,03월 INT,04월 INT,05월 INT,06월 INT,07월 INT,08월 INT,09월 INT,10월 INT,11월 INT,12월 INT,계 INT)'\n",
    "iquery = f'INSERT INTO {tableName} (시군구,01월,02월,03월,04월,05월,06월,07월,08월,09월,10월,11월,12월,계)'\n",
    "path = '../result/서울_구별_월별_음주운전.csv'\n",
    "insert_db(tableName, cquery, iquery, path)"
   ],
   "id": "34571afac4236a8e",
   "outputs": [
    {
     "name": "stdout",
     "output_type": "stream",
     "text": [
      "커밋완료\n"
     ]
    },
    {
     "name": "stderr",
     "output_type": "stream",
     "text": [
      "C:\\Users\\it\\Desktop\\Yuu_Yur_Python_workspace\\DDProject\\insertDB\\insert_db.py:29: FutureWarning: DataFrame.applymap has been deprecated. Use DataFrame.map instead.\n",
      "  df = df.applymap(lambda x: x.strip() if isinstance(x, str) else x)\n"
     ]
    }
   ],
   "execution_count": 2
  },
  {
   "metadata": {
    "ExecuteTime": {
     "end_time": "2025-04-07T06:31:08.171612Z",
     "start_time": "2025-04-07T06:31:08.144022Z"
    }
   },
   "cell_type": "code",
   "source": [
    "tableName = 'days_accident'\n",
    "cquery = f'CREATE TABLE IF NOT EXISTS {tableName} (id INT AUTO_INCREMENT PRIMARY KEY, 시군구 VARCHAR(20),일 INT, 월 INT, 화 INT, 수 INT, 목 INT, 금 INT, 토 INT)'\n",
    "iquery = f'INSERT INTO {tableName} (시군구,일,월,화,수,목,금,토)'\n",
    "path = '../result/서울_구별_요일별_음주운전.csv'\n",
    "insert_db(tableName,cquery, iquery, path)"
   ],
   "id": "f5df04dbf0e2c448",
   "outputs": [
    {
     "name": "stderr",
     "output_type": "stream",
     "text": [
      "C:\\Users\\it\\Desktop\\Yuu_Yur_Python_workspace\\DDProject\\insertDB\\insert_db.py:29: FutureWarning: DataFrame.applymap has been deprecated. Use DataFrame.map instead.\n",
      "  df = df.applymap(lambda x: x.strip() if isinstance(x, str) else x)\n"
     ]
    },
    {
     "name": "stdout",
     "output_type": "stream",
     "text": [
      "커밋완료\n"
     ]
    }
   ],
   "execution_count": 3
  },
  {
   "metadata": {
    "ExecuteTime": {
     "end_time": "2025-04-07T06:31:08.213364Z",
     "start_time": "2025-04-07T06:31:08.177987Z"
    }
   },
   "cell_type": "code",
   "source": [
    "tableName = 'times_accident'\n",
    "cquery = f'CREATE TABLE IF NOT EXISTS {tableName} (id INT AUTO_INCREMENT PRIMARY KEY, 시군구 VARCHAR(20),00시 INT,02시 INT,04시 INT,06시 INT,08시 INT,10시 INT,12시 INT,14시 INT,16시 INT,18시 INT,20시 INT,22시 INT)'\n",
    "iquery = f'INSERT INTO {tableName} (시군구,00시,02시,04시,06시,08시,10시,12시,14시,16시,18시,20시,22시)'\n",
    "path = '../result/서울_구별_시간대별_음주운전.csv'\n",
    "insert_db(tableName, cquery, iquery, path)"
   ],
   "id": "947b8d05bf70b43f",
   "outputs": [
    {
     "name": "stdout",
     "output_type": "stream",
     "text": [
      "커밋완료\n"
     ]
    },
    {
     "name": "stderr",
     "output_type": "stream",
     "text": [
      "C:\\Users\\it\\Desktop\\Yuu_Yur_Python_workspace\\DDProject\\insertDB\\insert_db.py:29: FutureWarning: DataFrame.applymap has been deprecated. Use DataFrame.map instead.\n",
      "  df = df.applymap(lambda x: x.strip() if isinstance(x, str) else x)\n"
     ]
    }
   ],
   "execution_count": 4
  },
  {
   "metadata": {
    "ExecuteTime": {
     "end_time": "2025-04-18T08:11:39.752873Z",
     "start_time": "2025-04-18T08:11:39.429153Z"
    }
   },
   "cell_type": "code",
   "source": [
    "tableName = 'accident_detail'\n",
    "cquery = f'CREATE TABLE IF NOT EXISTS {tableName} (id INT AUTO_INCREMENT PRIMARY KEY,구분번호 VARCHAR(20),발생년월 VARCHAR(20),요일 VARCHAR(20),시군구 VARCHAR(100),사고내용 VARCHAR(20),사망자수 INT,중상자수 INT,경상자수 INT,부상신고자수 INT,사고유형 VARCHAR(50),법규위반 VARCHAR(50),노면상태 VARCHAR(20),기상상태 VARCHAR(20),도로형태 VARCHAR(50),가해운전자차종 VARCHAR(20),가해운전자성별 VARCHAR(20),가해운전자연령대 VARCHAR(20),가해운전자상해정도 VARCHAR(20),피해운전자차종 VARCHAR(20),피해운전자성별 VARCHAR(20),피해운전자연령대 VARCHAR(20),피해운전자상해정도 VARCHAR(20), 구 VARCHAR(20), 동 VARCHAR(20),년 INT,월 INT,일 INT,법정동코드 VARCHAR(20),연령대 INT,시코드 INT,구코드 INT,동코드 INT)'\n",
    "iquery = f'INSERT INTO {tableName} (구분번호,발생년월,요일,시군구,사고내용,사망자수,중상자수,경상자수,부상신고자수,사고유형,법규위반,노면상태,기상상태,도로형태,가해운전자차종,가해운전자성별,가해운전자연령대,가해운전자상해정도,피해운전자차종,피해운전자성별,피해운전자연령대,피해운전자상해정도,구,동,년,월,일,법정동코드,연령대,시코드,구코드,동코드)'\n",
    "path = '../result/23-12_서울시_음주운전사고_데이터.csv'\n",
    "insert_db(tableName, cquery, iquery, path)"
   ],
   "id": "1449b286fc7e8075",
   "outputs": [
    {
     "name": "stderr",
     "output_type": "stream",
     "text": [
      "C:\\Users\\it\\Desktop\\Yuu_Yur_Python_workspace\\DDProject\\insertDB\\insert_db.py:29: FutureWarning: DataFrame.applymap has been deprecated. Use DataFrame.map instead.\n",
      "  df = df.applymap(lambda x: x.strip() if isinstance(x, str) else x)\n"
     ]
    },
    {
     "name": "stdout",
     "output_type": "stream",
     "text": [
      "커밋완료\n"
     ]
    }
   ],
   "execution_count": 15
  },
  {
   "metadata": {
    "ExecuteTime": {
     "end_time": "2025-04-09T01:12:12.102410Z",
     "start_time": "2025-04-09T01:12:11.481675Z"
    }
   },
   "cell_type": "code",
   "source": [
    "tableName = 'crackdown'\n",
    "cquery = f\"\"\"CREATE TABLE IF NOT EXISTS {tableName} (\n",
    "    id INT AUTO_INCREMENT PRIMARY KEY,\n",
    "    성별 VARCHAR(10),         -- 성별\n",
    "    적발횟수 INT,    -- 적발횟수\n",
    "    나이 VARCHAR(10),               -- 나이\n",
    "    알콜농도 FLOAT,   -- 알콜\n",
    "    측정거부 VARCHAR(10),       -- 측정거부\n",
    "    측정일시 DATETIME, -- 측정일시\n",
    "    관할경찰서 VARCHAR(100), -- 관할경찰서\n",
    "    구 VARCHAR(20),\n",
    "    법정동코드 VARCHAR(20),\n",
    "    시코드 INT,\n",
    "    구코드 INT,\n",
    "    년 INT,\n",
    "    월 INT,\n",
    "    일 INT,\n",
    "    시 INT,\n",
    "    연령대 INT,\n",
    "    요일 VARCHAR(10)\n",
    ")\"\"\"\n",
    "# 테이블 인서트\n",
    "iquery = f\"\"\"INSERT INTO {tableName} (성별,적발횟수,나이,알콜농도,측정거부,측정일시,관할경찰서,구,법정동코드,시코드,구코드,년,월,일,시,연령대, 요일)\"\"\"\n",
    "path = '../result/서울_단속_적발.csv'\n",
    "insert_db(tableName, cquery, iquery, path)"
   ],
   "id": "45b3a813080f6956",
   "outputs": [
    {
     "name": "stderr",
     "output_type": "stream",
     "text": [
      "C:\\Users\\it\\Desktop\\Yuu_Yur_Python_workspace\\DDProject\\insertDB\\insert_db.py:29: FutureWarning: DataFrame.applymap has been deprecated. Use DataFrame.map instead.\n",
      "  df = df.applymap(lambda x: x.strip() if isinstance(x, str) else x)\n"
     ]
    },
    {
     "name": "stdout",
     "output_type": "stream",
     "text": [
      "커밋완료\n"
     ]
    }
   ],
   "execution_count": 3
  },
  {
   "metadata": {
    "ExecuteTime": {
     "end_time": "2025-04-07T06:31:09.704583Z",
     "start_time": "2025-04-07T06:31:09.241470Z"
    }
   },
   "cell_type": "code",
   "source": [
    "tableName = 'busstop'\n",
    "cquery = f\"\"\"CREATE TABLE IF NOT EXISTS {tableName} (\n",
    "    id INT AUTO_INCREMENT PRIMARY KEY,\n",
    "    경도 FLOAT,\n",
    "    정류장번호 INT,\n",
    "    버스도착안내기설치여부 VARCHAR(20),\n",
    "    정류장이름 VARCHAR(100),\n",
    "    정류장유형 VARCHAR(20),\n",
    "    위도 FLOAT,\n",
    "    정류장아이디 INT,\n",
    "    지번주소 VARCHAR(100),\n",
    "    지번주소거리 VARCHAR(100),\n",
    "    도로명주소 VARCHAR(100),\n",
    "    도로명주소거리 VARCHAR(100),\n",
    "    구 VARCHAR(20))\"\"\"\n",
    "iquery = f\"\"\"\n",
    "    INSERT INTO {tableName} (경도,정류장번호,버스도착안내기설치여부,정류장이름,정류장유형,위도,정류장아이디,지번주소,지번주소거리,도로명주소,도로명주소거리,구)\"\"\"\n",
    "path = '../result/서울시_버스정류장정보.csv'\n",
    "insert_db(tableName,cquery,iquery,path)"
   ],
   "id": "bfa38f1f524cc539",
   "outputs": [
    {
     "name": "stderr",
     "output_type": "stream",
     "text": [
      "C:\\Users\\it\\Desktop\\Yuu_Yur_Python_workspace\\DDProject\\insertDB\\insert_db.py:29: FutureWarning: DataFrame.applymap has been deprecated. Use DataFrame.map instead.\n",
      "  df = df.applymap(lambda x: x.strip() if isinstance(x, str) else x)\n"
     ]
    },
    {
     "name": "stdout",
     "output_type": "stream",
     "text": [
      "커밋완료\n"
     ]
    }
   ],
   "execution_count": 7
  },
  {
   "metadata": {
    "ExecuteTime": {
     "end_time": "2025-04-07T06:35:01.534798Z",
     "start_time": "2025-04-07T06:35:01.344388Z"
    }
   },
   "cell_type": "code",
   "source": [
    "tableName = 'registeredcar'\n",
    "cquery = f\"\"\"CREATE TABLE IF NOT EXISTS {tableName} (\n",
    "    id INT AUTO_INCREMENT PRIMARY KEY,\n",
    "    시군구 VARCHAR(20),\n",
    "    행정동 VARCHAR(20),\n",
    "    연료 VARCHAR(20),\n",
    "    계 INT,\n",
    "    관용_승용 INT,\n",
    "    관용_승합 INT,\n",
    "    관용_화물 INT,\n",
    "    관용_특수 INT,\n",
    "    자가용_승용 INT,\n",
    "    자가용승합 INT,\n",
    "    자가용화물 INT,\n",
    "    자가용특수 INT,\n",
    "    영업용_승용 INT,\n",
    "    영업용승합 INT,\n",
    "    영업용화물 INT,\n",
    "    영업용특수 INT\n",
    "    )\"\"\"\n",
    "iquery = f\"\"\"INSERT INTO {tableName} (시군구,행정동,연료,계,관용_승용,관용_승합,관용_화물,관용_특수,자가용_승용,자가용승합,자가용화물,자가용특수,영업용_승용,영업용승합,영업용화물,영업용특수)\"\"\"\n",
    "path='../result/23-12 서울시 자동차 등록대수.csv'\n",
    "insert_db(tableName,cquery,iquery,path)"
   ],
   "id": "145f2f8efb2973fd",
   "outputs": [
    {
     "name": "stdout",
     "output_type": "stream",
     "text": [
      "커밋완료\n"
     ]
    },
    {
     "name": "stderr",
     "output_type": "stream",
     "text": [
      "C:\\Users\\it\\Desktop\\Yuu_Yur_Python_workspace\\DDProject\\insertDB\\insert_db.py:29: FutureWarning: DataFrame.applymap has been deprecated. Use DataFrame.map instead.\n",
      "  df = df.applymap(lambda x: x.strip() if isinstance(x, str) else x)\n"
     ]
    }
   ],
   "execution_count": 8
  },
  {
   "metadata": {
    "ExecuteTime": {
     "end_time": "2025-04-07T06:41:49.337318Z",
     "start_time": "2025-04-07T06:41:08.692818Z"
    }
   },
   "cell_type": "code",
   "source": [
    "tableName = 'marketingarea'\n",
    "cquery = f\"\"\"CREATE TABLE IF NOT EXISTS {tableName} (\n",
    "        id INT AUTO_INCREMENT PRIMARY KEY,\n",
    "        상가업소번호 VARCHAR(100),\n",
    "        상호명 VARCHAR(100),\n",
    "        상권업종대분류코드 VARCHAR(20),\n",
    "        상권업종대분류명 VARCHAR(20),\n",
    "        상권업종중분류코드 VARCHAR(20),\n",
    "        상권업종중분류명 VARCHAR(20),\n",
    "        상권업종소분류코드 VARCHAR(20),\n",
    "        상권업종소분류명 VARCHAR(50),\n",
    "        시도코드 INT,\n",
    "        시도명 VARCHAR(20),\n",
    "        시군구코드 INT,\n",
    "        시군구명 VARCHAR(20),\n",
    "        행정동코드 INT,\n",
    "        행정동명 VARCHAR(20),\n",
    "        법정동코드 INT,\n",
    "        법정동명 VARCHAR(20),\n",
    "        지번코드 VARCHAR(100),\n",
    "        대지구분코드 INT,\n",
    "        대지구분명 VARCHAR(20),\n",
    "        지번본번지 INT,\n",
    "        지번부번지 FLOAT,\n",
    "        지번주소 VARCHAR(255),\n",
    "        도로명코드 VARCHAR(100),\n",
    "        도로명 VARCHAR(255),\n",
    "        건물본번지 FLOAT,\n",
    "        건물부번지 FLOAT,\n",
    "        건물관리번호 VARCHAR(100),\n",
    "        건물명 VARCHAR(100),\n",
    "        도로명주소 VARCHAR(255),\n",
    "        구우편번호 INT,\n",
    "        신우편번호 INT,\n",
    "        층정보 VARCHAR(10),\n",
    "        경도 FLOAT,\n",
    "        위도 FLOAT\n",
    "    )\"\"\"\n",
    "iquery = f\"\"\"\n",
    "        INSERT INTO marketingarea (상가업소번호,상호명,상권업종대분류코드,상권업종대분류명,상권업종중분류코드,상권업종중분류명,상권업종소분류코드,상권업종소분류명,시도코드,시도명,시군구코드,시군구명,행정동코드,행정동명,법정동코드,법정동명,지번코드,대지구분코드,대지구분명,지번본번지,지번부번지,지번주소,도로명코드,도로명,건물본번지,건물부번지,건물관리번호,건물명,도로명주소,구우편번호,신우편번호,층정보,경도,위도)\"\"\"\n",
    "path = '../result/23-12_소상공인시장진흥공단_상가(상권)정보_서울.csv'\n",
    "insert_db(tableName,cquery,iquery,path)"
   ],
   "id": "ecc38855cb476b94",
   "outputs": [
    {
     "name": "stderr",
     "output_type": "stream",
     "text": [
      "C:\\Users\\it\\Desktop\\Yuu_Yur_Python_workspace\\DDProject\\insertDB\\insert_db.py:29: FutureWarning: DataFrame.applymap has been deprecated. Use DataFrame.map instead.\n",
      "  df = df.applymap(lambda x: x.strip() if isinstance(x, str) else x)\n"
     ]
    },
    {
     "name": "stdout",
     "output_type": "stream",
     "text": [
      "커밋완료\n"
     ]
    }
   ],
   "execution_count": 12
  },
  {
   "metadata": {
    "ExecuteTime": {
     "end_time": "2025-04-07T06:47:11.002126Z",
     "start_time": "2025-04-07T06:47:10.466052Z"
    }
   },
   "cell_type": "code",
   "source": [
    "tableName = 'streetlamp'\n",
    "cquery = f\"\"\"CREATE TABLE IF NOT EXISTS {tableName} (\n",
    "    id INT AUTO_INCREMENT PRIMARY KEY,\n",
    "    지번주소 VARCHAR(255), -- _PARCEL_AD는 문자열\n",
    "    지번거리 VARCHAR(50),\n",
    "    도로명주소 VARCHAR(255),  -- _ROAD_AD는 문자열로 처리\n",
    "    도로명거리 VARCHAR(50),\n",
    "    시군구 VARCHAR(20),    -- 시군구는 문자열로 처리\n",
    "    행정동 VARCHAR(20)    -- 행정동은 문자열로 처리\n",
    ")\"\"\"\n",
    "iquery = f\"\"\"INSERT INTO {tableName} (지번주소,지번거리,도로명주소,도로명거리,시군구,행정동)\"\"\"\n",
    "path = '../result/서울시_가로등_위치정보.csv'\n",
    "insert_db(tableName,cquery,iquery,path)"
   ],
   "id": "a1e11bee40bce8c5",
   "outputs": [
    {
     "name": "stderr",
     "output_type": "stream",
     "text": [
      "C:\\Users\\it\\Desktop\\Yuu_Yur_Python_workspace\\DDProject\\insertDB\\insert_db.py:29: FutureWarning: DataFrame.applymap has been deprecated. Use DataFrame.map instead.\n",
      "  df = df.applymap(lambda x: x.strip() if isinstance(x, str) else x)\n"
     ]
    },
    {
     "name": "stdout",
     "output_type": "stream",
     "text": [
      "커밋완료\n"
     ]
    }
   ],
   "execution_count": 13
  },
  {
   "metadata": {
    "ExecuteTime": {
     "end_time": "2025-04-07T06:49:22.877396Z",
     "start_time": "2025-04-07T06:49:22.815884Z"
    }
   },
   "cell_type": "code",
   "source": [
    "tableName = 'subway'\n",
    "cquery = f\"\"\"CREATE TABLE IF NOT EXISTS {tableName} (\n",
    "    id INT AUTO_INCREMENT PRIMARY KEY,\n",
    "    역사_ID INT,\n",
    "    역사명 VARCHAR(50),\n",
    "    호선 VARCHAR(50),\n",
    "    위도 FLOAT,\n",
    "    경도 FLOAT,\n",
    "    지번주소 VARCHAR(255),\n",
    "    지번거리 VARCHAR(20),\n",
    "    도로명주소 VARCHAR(255),\n",
    "    도로명거리 VARCHAR(20)\n",
    ")\"\"\"\n",
    "iquery = f\"\"\"INSERT INTO {tableName} (역사_ID,역사명,호선,위도,경도,지번주소,지번거리,도로명주소,도로명거리)\"\"\"\n",
    "path = '../result/서울시_전철역사정보.csv'\n",
    "insert_db(tableName,cquery,iquery,path)"
   ],
   "id": "c52142d46d9d2847",
   "outputs": [
    {
     "name": "stdout",
     "output_type": "stream",
     "text": [
      "커밋완료\n"
     ]
    },
    {
     "name": "stderr",
     "output_type": "stream",
     "text": [
      "C:\\Users\\it\\Desktop\\Yuu_Yur_Python_workspace\\DDProject\\insertDB\\insert_db.py:29: FutureWarning: DataFrame.applymap has been deprecated. Use DataFrame.map instead.\n",
      "  df = df.applymap(lambda x: x.strip() if isinstance(x, str) else x)\n"
     ]
    }
   ],
   "execution_count": 15
  },
  {
   "metadata": {
    "ExecuteTime": {
     "end_time": "2025-04-11T01:09:53.745017Z",
     "start_time": "2025-04-11T01:09:53.715441Z"
    }
   },
   "cell_type": "code",
   "source": [
    "from insert_db import insert_db\n",
    "tableName = 'landClassification'\n",
    "cquery = f\"\"\"\n",
    "CREATE TABLE IF NOT EXISTS {tableName} (\n",
    "id INT AUTO_INCREMENT PRIMARY KEY,\n",
    "구 VARCHAR(20),\n",
    "용도지역총계 INT,\n",
    "주거지역소계 INT,\n",
    "전용주거지역소계 INT,\n",
    "제1종전용 INT,\n",
    "제2종전용 INT,\n",
    "일반주거지역소계 INT,\n",
    "제1종일반 INT,\n",
    "제2종일반_7층이하 INT,\n",
    "제2종일반 INT,\n",
    "제3종일반 INT,\n",
    "준주거지역 INT,\n",
    "상업지역소계 INT,\n",
    "중심상업지역 INT,\n",
    "일반상업지역 INT,\n",
    "근린상업지역 INT,\n",
    "유통상업지역 INT,\n",
    "공업지역소계 INT,\n",
    "전용공업지역 INT,\n",
    "일반공업지역 INT,\n",
    "준공업지역 INT,\n",
    "녹지지역소계 INT,\n",
    "보전녹지지역 INT,\n",
    "생산녹지지역 INT,\n",
    "지연녹지지역 INT,\n",
    "법정동코드 VARCHAR(10),\n",
    "시코드 INT,\n",
    "구코드 INT\n",
    ")\n",
    "\"\"\"\n",
    "iquery = f\"INSERT INTO {tableName} (구,용도지역총계,주거지역소계,전용주거지역소계,제1종전용,제2종전용,일반주거지역소계,제1종일반,제2종일반_7층이하,제2종일반,제3종일반,준주거지역,상업지역소계,중심상업지역,일반상업지역,근린상업지역,유통상업지역,공업지역소계,전용공업지역,일반공업지역,준공업지역,녹지지역소계,보전녹지지역,생산녹지지역,지연녹지지역,법정동코드,시코드,구코드)\"\n",
    "path = '../result/서울_용도지역현황_2023.csv'\n",
    "insert_db(tableName,cquery,iquery,path)"
   ],
   "id": "20d71f1ba6adc158",
   "outputs": [
    {
     "name": "stdout",
     "output_type": "stream",
     "text": [
      "커밋완료\n"
     ]
    },
    {
     "name": "stderr",
     "output_type": "stream",
     "text": [
      "C:\\Users\\it\\Desktop\\Yuu_Yur_Python_workspace\\DDProject\\insertDB\\insert_db.py:29: FutureWarning: DataFrame.applymap has been deprecated. Use DataFrame.map instead.\n",
      "  df = df.applymap(lambda x: x.strip() if isinstance(x, str) else x)\n"
     ]
    }
   ],
   "execution_count": 4
  },
  {
   "metadata": {
    "ExecuteTime": {
     "end_time": "2025-04-18T06:43:31.544655Z",
     "start_time": "2025-04-18T06:41:40.211998Z"
    }
   },
   "cell_type": "code",
   "source": [
    "from insert_db import insert_db\n",
    "tableName = 'yancheongu_moving'\n",
    "cquery = f\"\"\"\n",
    "CREATE TABLE IF NOT EXISTS {tableName} (\n",
    "id INT AUTO_INCREMENT PRIMARY KEY,\n",
    "월 INT,\n",
    "요일 VARCHAR(20),\n",
    "도착시간 INT,\n",
    "출발시군구코드 VARCHAR(10),\n",
    "도착시군구코드 VARCHAR(10),\n",
    "나이 INT,\n",
    "이동유형 VARCHAR(10),\n",
    "이동인구_합 FLOAT\n",
    ")\n",
    "\"\"\"\n",
    "iquery = f\"\"\"\n",
    "INSERT INTO {tableName} (월,요일,도착시간,출발시군구코드,도착시군구코드,나이,이동유형,이동인구_합)\n",
    "\"\"\"\n",
    "path = '../result/양천구_생활이동_2023.csv'\n",
    "insert_db(tableName,cquery,iquery,path)"
   ],
   "id": "18a9566d94964238",
   "outputs": [
    {
     "name": "stderr",
     "output_type": "stream",
     "text": [
      "C:\\Users\\it\\Desktop\\Yuu_Yur_Python_workspace\\DDProject\\insertDB\\insert_db.py:29: FutureWarning: DataFrame.applymap has been deprecated. Use DataFrame.map instead.\n",
      "  df = df.applymap(lambda x: x.strip() if isinstance(x, str) else x)\n"
     ]
    },
    {
     "name": "stdout",
     "output_type": "stream",
     "text": [
      "커밋완료\n"
     ]
    }
   ],
   "execution_count": 11
  }
 ],
 "metadata": {
  "kernelspec": {
   "display_name": "Python 3",
   "language": "python",
   "name": "python3"
  },
  "language_info": {
   "codemirror_mode": {
    "name": "ipython",
    "version": 2
   },
   "file_extension": ".py",
   "mimetype": "text/x-python",
   "name": "python",
   "nbconvert_exporter": "python",
   "pygments_lexer": "ipython2",
   "version": "2.7.6"
  }
 },
 "nbformat": 4,
 "nbformat_minor": 5
}
